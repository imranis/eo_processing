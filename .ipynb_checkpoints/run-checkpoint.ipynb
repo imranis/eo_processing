{
 "cells": [
  {
   "cell_type": "code",
   "execution_count": 1,
   "metadata": {},
   "outputs": [
    {
     "data": {
      "application/vnd.jupyter.widget-view+json": {
       "model_id": "ede1b26ac64943d898db384d3501e2d1",
       "version_major": 2,
       "version_minor": 0
      },
      "text/plain": [
       "Map(center=[25, 50], controls=(ZoomControl(options=['position', 'zoom_in_text', 'zoom_in_title', 'zoom_out_tex…"
      ]
     },
     "metadata": {},
     "output_type": "display_data"
    },
    {
     "data": {
      "application/vnd.jupyter.widget-view+json": {
       "model_id": "aaea3d3d01964c2083258f2f483a6fdc",
       "version_major": 2,
       "version_minor": 0
      },
      "text/plain": [
       "Output()"
      ]
     },
     "metadata": {},
     "output_type": "display_data"
    },
    {
     "data": {
      "application/vnd.jupyter.widget-view+json": {
       "model_id": "27cf2de7f07f4d0c91463f99d8d02456",
       "version_major": 2,
       "version_minor": 0
      },
      "text/plain": [
       "DatePicker(value=None, description='Start Time', step=1)"
      ]
     },
     "metadata": {},
     "output_type": "display_data"
    },
    {
     "data": {
      "application/vnd.jupyter.widget-view+json": {
       "model_id": "349c4ee7c1214e2d9b51f57a5cdb0ddb",
       "version_major": 2,
       "version_minor": 0
      },
      "text/plain": [
       "DatePicker(value=None, description='End Time', step=1)"
      ]
     },
     "metadata": {},
     "output_type": "display_data"
    },
    {
     "data": {
      "application/vnd.jupyter.widget-view+json": {
       "model_id": "cc311a0a5cd44412ad37bb0eabd11499",
       "version_major": 2,
       "version_minor": 0
      },
      "text/plain": [
       "Button(description='Done', style=ButtonStyle())"
      ]
     },
     "metadata": {},
     "output_type": "display_data"
    }
   ],
   "source": [
    "import pandas as pd\n",
    "import geopandas as gpd\n",
    "import numpy as np\n",
    "import openeo\n",
    "import shapely.geometry\n",
    "from shapely.geometry import Polygon, box, MultiPolygon\n",
    "from shapely.ops import unary_union\n",
    "from ipyleaflet import Map, basemaps, DrawControl, GeoData\n",
    "from ipywidgets import Button, Output, DatePicker\n",
    "from IPython.display import display\n",
    "import LCE\n",
    "import BCET\n",
    "from openeo.processes import ProcessBuilder\n",
    "import functions2\n",
    "\n",
    "# Create a map\n",
    "m = Map(center=(25, 50), zoom=5, basemap=basemaps.OpenStreetMap.Mapnik)\n",
    "\n",
    "# Create a draw control\n",
    "draw_control = DrawControl(polygon={'shapeOptions': {'color': '#0000FF'}})\n",
    "m.add_control(draw_control)\n",
    "\n",
    "# Display the map\n",
    "display(m)\n",
    "\n",
    "# Create an output widget to display results\n",
    "output = Output()\n",
    "display(output)\n",
    "\n",
    "\n",
    "# Display the date pickers\n",
    "display(functions2.start_time_picker)\n",
    "display(functions2.end_time_picker)\n",
    "\n",
    "display(functions2.button)\n",
    "\n",
    "\n",
    "# Function to execute when a new shape is drawn\n",
    "def handle_draw(self, action, geo_json):\n",
    "    # Get the coordinates of the polygon\n",
    "    coords = geo_json['geometry']['coordinates'][0]\n",
    "    polygon = Polygon(coords)\n",
    "\n",
    "    # Define the size of your square sections (in degrees)\n",
    "    square_size = 0.005\n",
    "\n",
    "    # Create a grid of squares within your area of interest\n",
    "    squares = []\n",
    "    for x in np.arange(min([coord[0] for coord in coords]), max([coord[0] for coord in coords]), square_size):\n",
    "        for y in np.arange(min([coord[1] for coord in coords]), max([coord[1] for coord in coords]), square_size):\n",
    "            square = box(x, y, x+square_size, y+square_size)\n",
    "            if polygon.intersects(square):\n",
    "                squares.append(square)\n",
    "\n",
    "    # Create a GeoDataFrame for the squares\n",
    "    squares_gdf = gpd.GeoDataFrame(gpd.GeoSeries(squares), columns=['geometry'])\n",
    "\n",
    "    # Display the squares on the map\n",
    "    m.add_layer(GeoData(geo_dataframe=squares_gdf))\n",
    "\n",
    "    # Create a MultiPolygon object from the squares\n",
    "    multipolygon = MultiPolygon(squares)\n",
    "\n",
    "    # Create a single polygon that represents the outline of the area\n",
    "    outline = unary_union(multipolygon)\n",
    "\n",
    "    # Check if the outline is a MultiPolygon\n",
    "    if outline.geom_type == 'MultiPolygon':\n",
    "        # If it is, then iterate over each Polygon and extract the coordinates\n",
    "        outline_coords = [list(p.exterior.coords) for p in outline.geoms]\n",
    "        # Flatten the list of coordinates\n",
    "        outline_coords = [coord for sublist in outline_coords for coord in sublist]\n",
    "    else:\n",
    "        # If it's not a MultiPolygon (i.e., it's a single Polygon), then extract the coordinates as before\n",
    "        outline_coords = list(outline.exterior.coords)\n",
    "\n",
    "    # Add the first coordinate to the end to close the shape\n",
    "    outline_coords.append(outline_coords[0])\n",
    "\n",
    "    # Convert the coordinates to a DataFrame\n",
    "    outline_df = pd.DataFrame(outline_coords, columns=['longitude', 'latitude'])\n",
    "\n",
    "    # Save the DataFrame to a .csv file\n",
    "    outline_df.to_csv('main_shape.csv', index=False)\n",
    "\n",
    "    start_time = functions2.start_time_picker.value\n",
    "    end_time = functions2.end_time_picker.value\n",
    "\n",
    "    functions2.sar(polygon, start_time, end_time)\n",
    "    functions2.tcc(polygon, start_time, end_time)\n",
    "    functions2.nbr(polygon, start_time, end_time)\n",
    "# Attach the function to the draw control\n",
    "draw_control.on_draw(handle_draw)\n"
   ]
  },
  {
   "cell_type": "code",
   "execution_count": null,
   "metadata": {},
   "outputs": [],
   "source": []
  }
 ],
 "metadata": {
  "kernelspec": {
   "display_name": "Python 3 (ipykernel)",
   "language": "python",
   "name": "python3"
  },
  "language_info": {
   "codemirror_mode": {
    "name": "ipython",
    "version": 3
   },
   "file_extension": ".py",
   "mimetype": "text/x-python",
   "name": "python",
   "nbconvert_exporter": "python",
   "pygments_lexer": "ipython3",
   "version": "3.11.5"
  }
 },
 "nbformat": 4,
 "nbformat_minor": 2
}
