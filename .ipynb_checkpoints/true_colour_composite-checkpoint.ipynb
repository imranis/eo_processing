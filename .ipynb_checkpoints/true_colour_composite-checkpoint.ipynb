{
 "cells": [
  {
   "cell_type": "code",
   "execution_count": 1,
   "metadata": {},
   "outputs": [
    {
     "data": {
      "application/vnd.jupyter.widget-view+json": {
       "model_id": "a1966f9ebf0641c08434a9f84f272a1c",
       "version_major": 2,
       "version_minor": 0
      },
      "text/plain": [
       "Map(center=[25, 50], controls=(ZoomControl(options=['position', 'zoom_in_text', 'zoom_in_title', 'zoom_out_tex…"
      ]
     },
     "metadata": {},
     "output_type": "display_data"
    },
    {
     "data": {
      "application/vnd.jupyter.widget-view+json": {
       "model_id": "bb738205067e45a08b98aec030e9df74",
       "version_major": 2,
       "version_minor": 0
      },
      "text/plain": [
       "Output()"
      ]
     },
     "metadata": {},
     "output_type": "display_data"
    },
    {
     "data": {
      "application/vnd.jupyter.widget-view+json": {
       "model_id": "ae901bbd602e475588b77a9717059db5",
       "version_major": 2,
       "version_minor": 0
      },
      "text/plain": [
       "DatePicker(value=None, description='Start Time', step=1)"
      ]
     },
     "metadata": {},
     "output_type": "display_data"
    },
    {
     "data": {
      "application/vnd.jupyter.widget-view+json": {
       "model_id": "0494b64d14ea43da99f5dd6cc1d4de41",
       "version_major": 2,
       "version_minor": 0
      },
      "text/plain": [
       "DatePicker(value=None, description='End Time', step=1)"
      ]
     },
     "metadata": {},
     "output_type": "display_data"
    },
    {
     "data": {
      "application/vnd.jupyter.widget-view+json": {
       "model_id": "4d85c7c640f84ec394cbe8ee57e03538",
       "version_major": 2,
       "version_minor": 0
      },
      "text/plain": [
       "Button(description='Done', style=ButtonStyle())"
      ]
     },
     "metadata": {},
     "output_type": "display_data"
    },
    {
     "name": "stdout",
     "output_type": "stream",
     "text": [
      "Authenticated using refresh token.\n"
     ]
    },
    {
     "ename": "OpenEoApiError",
     "evalue": "[400] NoDataAvailable: There is no data available for the given extents. Could not find data for your load_collection request with catalog ID \"Sentinel2\". The catalog query had correlation ID \"r-2401304145724f88a9898802be6a4a59\" and returned 0 results. (ref: r-2401304145724f88a9898802be6a4a59)",
     "output_type": "error",
     "traceback": [
      "\u001b[0;31m---------------------------------------------------------------------------\u001b[0m",
      "\u001b[0;31mOpenEoApiError\u001b[0m                            Traceback (most recent call last)",
      "Cell \u001b[0;32mIn[1], line 73\u001b[0m, in \u001b[0;36mtcc.<locals>.on_button_clicked\u001b[0;34m(b)\u001b[0m\n\u001b[1;32m     65\u001b[0m cube_b234_reduced_lin \u001b[38;5;241m=\u001b[39m cube_b234_reduced\u001b[38;5;241m.\u001b[39mapply(scale_function)\n\u001b[1;32m     67\u001b[0m res \u001b[38;5;241m=\u001b[39m cube_b234_reduced_lin\u001b[38;5;241m.\u001b[39msave_result(\u001b[38;5;28mformat\u001b[39m\u001b[38;5;241m=\u001b[39m\u001b[38;5;124m\"\u001b[39m\u001b[38;5;124mGTIFF\u001b[39m\u001b[38;5;124m\"\u001b[39m, options\u001b[38;5;241m=\u001b[39m{\n\u001b[1;32m     68\u001b[0m     \u001b[38;5;124m\"\u001b[39m\u001b[38;5;124mred\u001b[39m\u001b[38;5;124m\"\u001b[39m: \u001b[38;5;124m\"\u001b[39m\u001b[38;5;124mB4\u001b[39m\u001b[38;5;124m\"\u001b[39m,\n\u001b[1;32m     69\u001b[0m     \u001b[38;5;124m\"\u001b[39m\u001b[38;5;124mgreen\u001b[39m\u001b[38;5;124m\"\u001b[39m: \u001b[38;5;124m\"\u001b[39m\u001b[38;5;124mB3\u001b[39m\u001b[38;5;124m\"\u001b[39m,\n\u001b[1;32m     70\u001b[0m     \u001b[38;5;124m\"\u001b[39m\u001b[38;5;124mblue\u001b[39m\u001b[38;5;124m\"\u001b[39m: \u001b[38;5;124m\"\u001b[39m\u001b[38;5;124mB2\u001b[39m\u001b[38;5;124m\"\u001b[39m\n\u001b[1;32m     71\u001b[0m })\n\u001b[0;32m---> 73\u001b[0m res\u001b[38;5;241m.\u001b[39mdownload(\u001b[38;5;124m'\u001b[39m\u001b[38;5;124mtcc_example.tiff\u001b[39m\u001b[38;5;124m'\u001b[39m, \u001b[38;5;28mformat\u001b[39m\u001b[38;5;241m=\u001b[39m\u001b[38;5;124m'\u001b[39m\u001b[38;5;124mGTIFF\u001b[39m\u001b[38;5;124m'\u001b[39m)\n\u001b[1;32m     74\u001b[0m BCET\u001b[38;5;241m.\u001b[39mplot_result_bcet(\u001b[38;5;124m'\u001b[39m\u001b[38;5;124mtcc_example.tiff\u001b[39m\u001b[38;5;124m'\u001b[39m)\n\u001b[1;32m     75\u001b[0m LCE\u001b[38;5;241m.\u001b[39mplot_result(\u001b[38;5;124m'\u001b[39m\u001b[38;5;124mtcc_example.tiff\u001b[39m\u001b[38;5;124m'\u001b[39m, \u001b[38;5;241m10\u001b[39m)\n",
      "File \u001b[0;32m~/anaconda3/lib/python3.11/site-packages/openeo/rest/datacube.py:2102\u001b[0m, in \u001b[0;36mDataCube.download\u001b[0;34m(self, outputfile, format, options, validate)\u001b[0m\n\u001b[1;32m   2100\u001b[0m     \u001b[38;5;28mformat\u001b[39m \u001b[38;5;241m=\u001b[39m guess_format(outputfile)\n\u001b[1;32m   2101\u001b[0m cube \u001b[38;5;241m=\u001b[39m \u001b[38;5;28mself\u001b[39m\u001b[38;5;241m.\u001b[39m_ensure_save_result(\u001b[38;5;28mformat\u001b[39m\u001b[38;5;241m=\u001b[39m\u001b[38;5;28mformat\u001b[39m, options\u001b[38;5;241m=\u001b[39moptions)\n\u001b[0;32m-> 2102\u001b[0m \u001b[38;5;28;01mreturn\u001b[39;00m \u001b[38;5;28mself\u001b[39m\u001b[38;5;241m.\u001b[39m_connection\u001b[38;5;241m.\u001b[39mdownload(cube\u001b[38;5;241m.\u001b[39mflat_graph(), outputfile, validate\u001b[38;5;241m=\u001b[39mvalidate)\n",
      "File \u001b[0;32m~/anaconda3/lib/python3.11/site-packages/openeo/rest/connection.py:1559\u001b[0m, in \u001b[0;36mConnection.download\u001b[0;34m(self, graph, outputfile, timeout, validate)\u001b[0m\n\u001b[1;32m   1557\u001b[0m pg_with_metadata \u001b[38;5;241m=\u001b[39m \u001b[38;5;28mself\u001b[39m\u001b[38;5;241m.\u001b[39m_build_request_with_process_graph(process_graph\u001b[38;5;241m=\u001b[39mgraph)\n\u001b[1;32m   1558\u001b[0m \u001b[38;5;28mself\u001b[39m\u001b[38;5;241m.\u001b[39m_preflight_validation(pg_with_metadata\u001b[38;5;241m=\u001b[39mpg_with_metadata, validate\u001b[38;5;241m=\u001b[39mvalidate)\n\u001b[0;32m-> 1559\u001b[0m response \u001b[38;5;241m=\u001b[39m \u001b[38;5;28mself\u001b[39m\u001b[38;5;241m.\u001b[39mpost(\n\u001b[1;32m   1560\u001b[0m     path\u001b[38;5;241m=\u001b[39m\u001b[38;5;124m\"\u001b[39m\u001b[38;5;124m/result\u001b[39m\u001b[38;5;124m\"\u001b[39m,\n\u001b[1;32m   1561\u001b[0m     json\u001b[38;5;241m=\u001b[39mpg_with_metadata,\n\u001b[1;32m   1562\u001b[0m     expected_status\u001b[38;5;241m=\u001b[39m\u001b[38;5;241m200\u001b[39m,\n\u001b[1;32m   1563\u001b[0m     stream\u001b[38;5;241m=\u001b[39m\u001b[38;5;28;01mTrue\u001b[39;00m,\n\u001b[1;32m   1564\u001b[0m     timeout\u001b[38;5;241m=\u001b[39mtimeout \u001b[38;5;129;01mor\u001b[39;00m DEFAULT_TIMEOUT_SYNCHRONOUS_EXECUTE,\n\u001b[1;32m   1565\u001b[0m )\n\u001b[1;32m   1567\u001b[0m \u001b[38;5;28;01mif\u001b[39;00m outputfile \u001b[38;5;129;01mis\u001b[39;00m \u001b[38;5;129;01mnot\u001b[39;00m \u001b[38;5;28;01mNone\u001b[39;00m:\n\u001b[1;32m   1568\u001b[0m     \u001b[38;5;28;01mwith\u001b[39;00m Path(outputfile)\u001b[38;5;241m.\u001b[39mopen(mode\u001b[38;5;241m=\u001b[39m\u001b[38;5;124m\"\u001b[39m\u001b[38;5;124mwb\u001b[39m\u001b[38;5;124m\"\u001b[39m) \u001b[38;5;28;01mas\u001b[39;00m f:\n",
      "File \u001b[0;32m~/anaconda3/lib/python3.11/site-packages/openeo/rest/connection.py:230\u001b[0m, in \u001b[0;36mRestApiConnection.post\u001b[0;34m(self, path, json, **kwargs)\u001b[0m\n\u001b[1;32m    222\u001b[0m \u001b[38;5;28;01mdef\u001b[39;00m \u001b[38;5;21mpost\u001b[39m(\u001b[38;5;28mself\u001b[39m, path: \u001b[38;5;28mstr\u001b[39m, json: Optional[\u001b[38;5;28mdict\u001b[39m] \u001b[38;5;241m=\u001b[39m \u001b[38;5;28;01mNone\u001b[39;00m, \u001b[38;5;241m*\u001b[39m\u001b[38;5;241m*\u001b[39mkwargs) \u001b[38;5;241m-\u001b[39m\u001b[38;5;241m>\u001b[39m Response:\n\u001b[1;32m    223\u001b[0m \u001b[38;5;250m    \u001b[39m\u001b[38;5;124;03m\"\"\"\u001b[39;00m\n\u001b[1;32m    224\u001b[0m \u001b[38;5;124;03m    Do POST request to REST API.\u001b[39;00m\n\u001b[1;32m    225\u001b[0m \n\u001b[0;32m   (...)\u001b[0m\n\u001b[1;32m    228\u001b[0m \u001b[38;5;124;03m    :return: response: Response\u001b[39;00m\n\u001b[1;32m    229\u001b[0m \u001b[38;5;124;03m    \"\"\"\u001b[39;00m\n\u001b[0;32m--> 230\u001b[0m     \u001b[38;5;28;01mreturn\u001b[39;00m \u001b[38;5;28mself\u001b[39m\u001b[38;5;241m.\u001b[39mrequest(\u001b[38;5;124m\"\u001b[39m\u001b[38;5;124mpost\u001b[39m\u001b[38;5;124m\"\u001b[39m, path\u001b[38;5;241m=\u001b[39mpath, json\u001b[38;5;241m=\u001b[39mjson, allow_redirects\u001b[38;5;241m=\u001b[39m\u001b[38;5;28;01mFalse\u001b[39;00m, \u001b[38;5;241m*\u001b[39m\u001b[38;5;241m*\u001b[39mkwargs)\n",
      "File \u001b[0;32m~/anaconda3/lib/python3.11/site-packages/openeo/rest/connection.py:769\u001b[0m, in \u001b[0;36mConnection.request\u001b[0;34m(self, method, path, headers, auth, check_error, expected_status, **kwargs)\u001b[0m\n\u001b[1;32m    762\u001b[0m     \u001b[38;5;28;01mreturn\u001b[39;00m \u001b[38;5;28msuper\u001b[39m(Connection, \u001b[38;5;28mself\u001b[39m)\u001b[38;5;241m.\u001b[39mrequest(\n\u001b[1;32m    763\u001b[0m         method\u001b[38;5;241m=\u001b[39mmethod, path\u001b[38;5;241m=\u001b[39mpath, headers\u001b[38;5;241m=\u001b[39mheaders, auth\u001b[38;5;241m=\u001b[39mauth,\n\u001b[1;32m    764\u001b[0m         check_error\u001b[38;5;241m=\u001b[39mcheck_error, expected_status\u001b[38;5;241m=\u001b[39mexpected_status, \u001b[38;5;241m*\u001b[39m\u001b[38;5;241m*\u001b[39mkwargs,\n\u001b[1;32m    765\u001b[0m     )\n\u001b[1;32m    767\u001b[0m \u001b[38;5;28;01mtry\u001b[39;00m:\n\u001b[1;32m    768\u001b[0m     \u001b[38;5;66;03m# Initial request attempt\u001b[39;00m\n\u001b[0;32m--> 769\u001b[0m     \u001b[38;5;28;01mreturn\u001b[39;00m _request()\n\u001b[1;32m    770\u001b[0m \u001b[38;5;28;01mexcept\u001b[39;00m OpenEoApiError \u001b[38;5;28;01mas\u001b[39;00m api_exc:\n\u001b[1;32m    771\u001b[0m     \u001b[38;5;28;01mif\u001b[39;00m api_exc\u001b[38;5;241m.\u001b[39mhttp_status_code \u001b[38;5;129;01min\u001b[39;00m {\u001b[38;5;241m401\u001b[39m, \u001b[38;5;241m403\u001b[39m} \u001b[38;5;129;01mand\u001b[39;00m api_exc\u001b[38;5;241m.\u001b[39mcode \u001b[38;5;241m==\u001b[39m \u001b[38;5;124m\"\u001b[39m\u001b[38;5;124mTokenInvalid\u001b[39m\u001b[38;5;124m\"\u001b[39m:\n\u001b[1;32m    772\u001b[0m         \u001b[38;5;66;03m# Auth token expired: can we refresh?\u001b[39;00m\n",
      "File \u001b[0;32m~/anaconda3/lib/python3.11/site-packages/openeo/rest/connection.py:762\u001b[0m, in \u001b[0;36mConnection.request.<locals>._request\u001b[0;34m()\u001b[0m\n\u001b[1;32m    761\u001b[0m \u001b[38;5;28;01mdef\u001b[39;00m \u001b[38;5;21m_request\u001b[39m():\n\u001b[0;32m--> 762\u001b[0m     \u001b[38;5;28;01mreturn\u001b[39;00m \u001b[38;5;28msuper\u001b[39m(Connection, \u001b[38;5;28mself\u001b[39m)\u001b[38;5;241m.\u001b[39mrequest(\n\u001b[1;32m    763\u001b[0m         method\u001b[38;5;241m=\u001b[39mmethod, path\u001b[38;5;241m=\u001b[39mpath, headers\u001b[38;5;241m=\u001b[39mheaders, auth\u001b[38;5;241m=\u001b[39mauth,\n\u001b[1;32m    764\u001b[0m         check_error\u001b[38;5;241m=\u001b[39mcheck_error, expected_status\u001b[38;5;241m=\u001b[39mexpected_status, \u001b[38;5;241m*\u001b[39m\u001b[38;5;241m*\u001b[39mkwargs,\n\u001b[1;32m    765\u001b[0m     )\n",
      "File \u001b[0;32m~/anaconda3/lib/python3.11/site-packages/openeo/rest/connection.py:168\u001b[0m, in \u001b[0;36mRestApiConnection.request\u001b[0;34m(self, method, path, headers, auth, check_error, expected_status, **kwargs)\u001b[0m\n\u001b[1;32m    166\u001b[0m expected_status \u001b[38;5;241m=\u001b[39m ensure_list(expected_status) \u001b[38;5;28;01mif\u001b[39;00m expected_status \u001b[38;5;28;01melse\u001b[39;00m []\n\u001b[1;32m    167\u001b[0m \u001b[38;5;28;01mif\u001b[39;00m check_error \u001b[38;5;129;01mand\u001b[39;00m status \u001b[38;5;241m>\u001b[39m\u001b[38;5;241m=\u001b[39m \u001b[38;5;241m400\u001b[39m \u001b[38;5;129;01mand\u001b[39;00m status \u001b[38;5;129;01mnot\u001b[39;00m \u001b[38;5;129;01min\u001b[39;00m expected_status:\n\u001b[0;32m--> 168\u001b[0m     \u001b[38;5;28mself\u001b[39m\u001b[38;5;241m.\u001b[39m_raise_api_error(resp)\n\u001b[1;32m    169\u001b[0m \u001b[38;5;28;01mif\u001b[39;00m expected_status \u001b[38;5;129;01mand\u001b[39;00m status \u001b[38;5;129;01mnot\u001b[39;00m \u001b[38;5;129;01min\u001b[39;00m expected_status:\n\u001b[1;32m    170\u001b[0m     \u001b[38;5;28;01mraise\u001b[39;00m OpenEoRestError(\u001b[38;5;124m\"\u001b[39m\u001b[38;5;124mGot status code \u001b[39m\u001b[38;5;132;01m{s!r}\u001b[39;00m\u001b[38;5;124m for `\u001b[39m\u001b[38;5;132;01m{m}\u001b[39;00m\u001b[38;5;124m \u001b[39m\u001b[38;5;132;01m{p}\u001b[39;00m\u001b[38;5;124m` (expected \u001b[39m\u001b[38;5;132;01m{e!r}\u001b[39;00m\u001b[38;5;124m) with body \u001b[39m\u001b[38;5;132;01m{body}\u001b[39;00m\u001b[38;5;124m\"\u001b[39m\u001b[38;5;241m.\u001b[39mformat(\n\u001b[1;32m    171\u001b[0m         m\u001b[38;5;241m=\u001b[39mmethod\u001b[38;5;241m.\u001b[39mupper(), p\u001b[38;5;241m=\u001b[39mpath, s\u001b[38;5;241m=\u001b[39mstatus, e\u001b[38;5;241m=\u001b[39mexpected_status, body\u001b[38;5;241m=\u001b[39mresp\u001b[38;5;241m.\u001b[39mtext)\n\u001b[1;32m    172\u001b[0m     )\n",
      "File \u001b[0;32m~/anaconda3/lib/python3.11/site-packages/openeo/rest/connection.py:188\u001b[0m, in \u001b[0;36mRestApiConnection._raise_api_error\u001b[0;34m(self, response)\u001b[0m\n\u001b[1;32m    186\u001b[0m     error_message \u001b[38;5;241m=\u001b[39m info\u001b[38;5;241m.\u001b[39mget(\u001b[38;5;124m\"\u001b[39m\u001b[38;5;124mmessage\u001b[39m\u001b[38;5;124m\"\u001b[39m)\n\u001b[1;32m    187\u001b[0m     \u001b[38;5;28;01mif\u001b[39;00m error_code \u001b[38;5;129;01mand\u001b[39;00m \u001b[38;5;28misinstance\u001b[39m(error_code, \u001b[38;5;28mstr\u001b[39m) \u001b[38;5;129;01mand\u001b[39;00m error_message \u001b[38;5;129;01mand\u001b[39;00m \u001b[38;5;28misinstance\u001b[39m(error_message, \u001b[38;5;28mstr\u001b[39m):\n\u001b[0;32m--> 188\u001b[0m         \u001b[38;5;28;01mraise\u001b[39;00m OpenEoApiError(\n\u001b[1;32m    189\u001b[0m             http_status_code\u001b[38;5;241m=\u001b[39mstatus_code,\n\u001b[1;32m    190\u001b[0m             code\u001b[38;5;241m=\u001b[39merror_code,\n\u001b[1;32m    191\u001b[0m             message\u001b[38;5;241m=\u001b[39merror_message,\n\u001b[1;32m    192\u001b[0m             \u001b[38;5;28mid\u001b[39m\u001b[38;5;241m=\u001b[39minfo\u001b[38;5;241m.\u001b[39mget(\u001b[38;5;124m\"\u001b[39m\u001b[38;5;124mid\u001b[39m\u001b[38;5;124m\"\u001b[39m),\n\u001b[1;32m    193\u001b[0m             url\u001b[38;5;241m=\u001b[39minfo\u001b[38;5;241m.\u001b[39mget(\u001b[38;5;124m\"\u001b[39m\u001b[38;5;124murl\u001b[39m\u001b[38;5;124m\"\u001b[39m),\n\u001b[1;32m    194\u001b[0m         )\n\u001b[1;32m    196\u001b[0m \u001b[38;5;66;03m# Failed to parse it as a compliant openEO API error: show body as-is in the exception.\u001b[39;00m\n\u001b[1;32m    197\u001b[0m text \u001b[38;5;241m=\u001b[39m response\u001b[38;5;241m.\u001b[39mtext\n",
      "\u001b[0;31mOpenEoApiError\u001b[0m: [400] NoDataAvailable: There is no data available for the given extents. Could not find data for your load_collection request with catalog ID \"Sentinel2\". The catalog query had correlation ID \"r-2401304145724f88a9898802be6a4a59\" and returned 0 results. (ref: r-2401304145724f88a9898802be6a4a59)"
     ]
    }
   ],
   "source": [
    "import pandas as pd\n",
    "import geopandas as gpd\n",
    "import numpy as np\n",
    "import openeo\n",
    "import shapely.geometry\n",
    "from shapely.geometry import Polygon, box, MultiPolygon\n",
    "from shapely.ops import unary_union\n",
    "from ipyleaflet import Map, basemaps, DrawControl, GeoData\n",
    "from ipywidgets import Button, Output, DatePicker\n",
    "from IPython.display import display\n",
    "import LCE\n",
    "import BCET\n",
    "from openeo.processes import ProcessBuilder\n",
    "\n",
    "# Create a map\n",
    "m = Map(center=(25, 50), zoom=5, basemap=basemaps.OpenStreetMap.Mapnik)\n",
    "\n",
    "# Create a draw control\n",
    "draw_control = DrawControl(polygon={'shapeOptions': {'color': '#0000FF'}})\n",
    "m.add_control(draw_control)\n",
    "\n",
    "# Display the map\n",
    "display(m)\n",
    "\n",
    "# Create an output widget to display results\n",
    "output = Output()\n",
    "display(output)\n",
    "\n",
    "def tcc(polygon):\n",
    "    # Create date picker widgets for the start and end time\n",
    "    start_time_picker = DatePicker(description='Start Time')\n",
    "    end_time_picker = DatePicker(description='End Time')\n",
    "\n",
    "    # Display the date pickers\n",
    "    display(start_time_picker)\n",
    "    display(end_time_picker)\n",
    "\n",
    "    # Create a button for the user to click when they have picked the dates\n",
    "    button = Button(description='Done')\n",
    "    display(button)\n",
    "\n",
    "    # Define a function to execute when the button is clicked\n",
    "    def on_button_clicked(b):\n",
    "        # Get the picked dates\n",
    "        start_time = start_time_picker.value\n",
    "        end_time = end_time_picker.value\n",
    "        connection = openeo.connect(url='openeo.dataspace.copernicus.eu').authenticate_oidc()\n",
    "\n",
    "        # Get the bounding box of the polygon\n",
    "        bbox = polygon.bounds\n",
    "\n",
    "        cube = (\n",
    "        connection.load_collection(\n",
    "            \"SENTINEL2_L2A\",\n",
    "            temporal_extent=[start_time, end_time],\n",
    "            spatial_extent=dict(zip([\"west\", \"south\", \"east\", \"north\"], bbox)),\n",
    "            bands=[\"B02\", \"B03\", \"B04\"]))\n",
    "        \n",
    "        cube_b234_reduced = cube.mean_time()\n",
    "        \n",
    "\n",
    "        def scale_function(x: ProcessBuilder):\n",
    "            return x.linear_scale_range(0, 6000, 0, 255)\n",
    "\n",
    "        cube_b234_reduced_lin = cube_b234_reduced.apply(scale_function)\n",
    "\n",
    "        res = cube_b234_reduced_lin.save_result(format=\"GTIFF\", options={\n",
    "            \"red\": \"B4\",\n",
    "            \"green\": \"B3\",\n",
    "            \"blue\": \"B2\"\n",
    "        })\n",
    "\n",
    "        res.download('tcc_example.tiff', format='GTIFF')\n",
    "        BCET.plot_result_bcet('tcc_example.tiff')\n",
    "        LCE.plot_result('tcc_example.tiff', 10)\n",
    "\n",
    "    button.on_click(on_button_clicked)\n",
    "\n",
    "# Function to execute when a new shape is drawn\n",
    "def handle_draw(self, action, geo_json):\n",
    "    # Get the coordinates of the polygon\n",
    "    coords = geo_json['geometry']['coordinates'][0]\n",
    "    polygon = Polygon(coords)\n",
    "\n",
    "    # Define the size of your square sections (in degrees)\n",
    "    square_size = 0.005\n",
    "\n",
    "    # Create a grid of squares within your area of interest\n",
    "    squares = []\n",
    "    for x in np.arange(min([coord[0] for coord in coords]), max([coord[0] for coord in coords]), square_size):\n",
    "        for y in np.arange(min([coord[1] for coord in coords]), max([coord[1] for coord in coords]), square_size):\n",
    "            square = box(x, y, x+square_size, y+square_size)\n",
    "            if polygon.intersects(square):\n",
    "                squares.append(square)\n",
    "\n",
    "    # Create a GeoDataFrame for the squares\n",
    "    squares_gdf = gpd.GeoDataFrame(gpd.GeoSeries(squares), columns=['geometry'])\n",
    "\n",
    "    # Display the squares on the map\n",
    "    m.add_layer(GeoData(geo_dataframe=squares_gdf))\n",
    "\n",
    "    # Create a MultiPolygon object from the squares\n",
    "    multipolygon = MultiPolygon(squares)\n",
    "\n",
    "    # Create a single polygon that represents the outline of the area\n",
    "    outline = unary_union(multipolygon)\n",
    "\n",
    "    # Check if the outline is a MultiPolygon\n",
    "    if outline.geom_type == 'MultiPolygon':\n",
    "        # If it is, then iterate over each Polygon and extract the coordinates\n",
    "        outline_coords = [list(p.exterior.coords) for p in outline.geoms]\n",
    "        # Flatten the list of coordinates\n",
    "        outline_coords = [coord for sublist in outline_coords for coord in sublist]\n",
    "    else:\n",
    "        # If it's not a MultiPolygon (i.e., it's a single Polygon), then extract the coordinates as before\n",
    "        outline_coords = list(outline.exterior.coords)\n",
    "\n",
    "    # Add the first coordinate to the end to close the shape\n",
    "    outline_coords.append(outline_coords[0])\n",
    "\n",
    "    # Convert the coordinates to a DataFrame\n",
    "    outline_df = pd.DataFrame(outline_coords, columns=['longitude', 'latitude'])\n",
    "\n",
    "    # Save the DataFrame to a .csv file\n",
    "    outline_df.to_csv('main_shape.csv', index=False)\n",
    "\n",
    "    tcc(polygon)\n",
    "\n",
    "# Attach the function to the draw control\n",
    "draw_control.on_draw(handle_draw)\n"
   ]
  },
  {
   "cell_type": "code",
   "execution_count": null,
   "metadata": {},
   "outputs": [],
   "source": []
  }
 ],
 "metadata": {
  "kernelspec": {
   "display_name": "Python 3 (ipykernel)",
   "language": "python",
   "name": "python3"
  },
  "language_info": {
   "codemirror_mode": {
    "name": "ipython",
    "version": 3
   },
   "file_extension": ".py",
   "mimetype": "text/x-python",
   "name": "python",
   "nbconvert_exporter": "python",
   "pygments_lexer": "ipython3",
   "version": "3.11.5"
  }
 },
 "nbformat": 4,
 "nbformat_minor": 2
}
