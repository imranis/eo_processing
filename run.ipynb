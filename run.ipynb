{
 "cells": [
  {
   "cell_type": "code",
   "execution_count": 2,
   "metadata": {},
   "outputs": [
    {
     "data": {
      "application/vnd.jupyter.widget-view+json": {
       "model_id": "b89cc9b8b5eb4fa6a25d7ed4719d5f37",
       "version_major": 2,
       "version_minor": 0
      },
      "text/plain": [
       "Map(center=[31.5, 34.45], controls=(ZoomControl(options=['position', 'zoom_in_text', 'zoom_in_title', 'zoom_ou…"
      ]
     },
     "metadata": {},
     "output_type": "display_data"
    },
    {
     "data": {
      "application/vnd.jupyter.widget-view+json": {
       "model_id": "207a68d62f8240e88b390fdc3f093c43",
       "version_major": 2,
       "version_minor": 0
      },
      "text/plain": [
       "Output()"
      ]
     },
     "metadata": {},
     "output_type": "display_data"
    },
    {
     "data": {
      "application/vnd.jupyter.widget-view+json": {
       "model_id": "cc7ea3fed1cd47aea1fefae74999bc34",
       "version_major": 2,
       "version_minor": 0
      },
      "text/plain": [
       "DatePicker(value=None, description='Start Time', step=1)"
      ]
     },
     "metadata": {},
     "output_type": "display_data"
    },
    {
     "data": {
      "application/vnd.jupyter.widget-view+json": {
       "model_id": "09e79eb5a951408b9b28dc4603158248",
       "version_major": 2,
       "version_minor": 0
      },
      "text/plain": [
       "DatePicker(value=None, description='End Time', step=1)"
      ]
     },
     "metadata": {},
     "output_type": "display_data"
    },
    {
     "data": {
      "application/vnd.jupyter.widget-view+json": {
       "model_id": "d423d812eae94da6b49ec4e80fb221ba",
       "version_major": 2,
       "version_minor": 0
      },
      "text/plain": [
       "Button(description='Done', style=ButtonStyle())"
      ]
     },
     "metadata": {},
     "output_type": "display_data"
    },
    {
     "name": "stdout",
     "output_type": "stream",
     "text": [
      "SAR image:\n",
      "Authenticated using refresh token.\n"
     ]
    }
   ],
   "source": [
    "import pandas as pd\n",
    "import geopandas as gpd\n",
    "import numpy as np\n",
    "import openeo\n",
    "import shapely.geometry\n",
    "from shapely.geometry import Polygon, box, MultiPolygon\n",
    "from shapely.ops import unary_union\n",
    "from ipyleaflet import Map, basemaps, DrawControl, GeoData\n",
    "from ipywidgets import Button, Output, DatePicker\n",
    "from IPython.display import display\n",
    "import LCE\n",
    "import BCET\n",
    "from openeo.processes import ProcessBuilder\n",
    "import functions2\n",
    "import datetime as dt\n",
    "\n",
    "# Create a map\n",
    "m = Map(center=(31.5, 34.45), zoom=5, basemap=basemaps.OpenStreetMap.Mapnik)\n",
    "\n",
    "# Create a draw control\n",
    "draw_control = DrawControl(polygon={'shapeOptions': {'color': '#0000FF'}})\n",
    "m.add_control(draw_control)\n",
    "\n",
    "# Display the map\n",
    "display(m)\n",
    "\n",
    "# Create an output widget to display results\n",
    "output = Output()\n",
    "display(output)\n",
    "\n",
    "# Create date picker widgets for the start and end time\n",
    "start_time_picker = DatePicker(description='Start Time')\n",
    "end_time_picker = DatePicker(description='End Time')\n",
    "press_this = Button(description='Done')\n",
    "\n",
    "display(start_time_picker)\n",
    "display(end_time_picker)\n",
    "display(press_this)\n",
    "\n",
    "polygon = None\n",
    "# One square is 555m at equator\n",
    "# Function to execute when a new shape is drawn\n",
    "def handle_draw(self, action, geo_json):\n",
    "    global polygon\n",
    "    # Get the coordinates of the polygon\n",
    "    coords = geo_json['geometry']['coordinates'][0]\n",
    "    polygon = Polygon(coords)\n",
    "\n",
    "    # Define the size of square sections (in degrees)\n",
    "    square_size = 0.005\n",
    "\n",
    "    # Create a grid of squares within area of interest\n",
    "    squares = []\n",
    "    for x in np.arange(min([coord[0] for coord in coords]), max([coord[0] for coord in coords]), square_size):\n",
    "        for y in np.arange(min([coord[1] for coord in coords]), max([coord[1] for coord in coords]), square_size):\n",
    "            square = box(x, y, x+square_size, y+square_size)\n",
    "            if polygon.intersects(square):\n",
    "                squares.append(square)\n",
    "\n",
    "    # Create a GeoDataFrame for the squares\n",
    "    squares_gdf = gpd.GeoDataFrame(gpd.GeoSeries(squares), columns=['geometry'])\n",
    "\n",
    "    # Display the squares on the map\n",
    "    m.add_layer(GeoData(geo_dataframe=squares_gdf))\n",
    "\n",
    "# Attach the function to the draw control\n",
    "draw_control.on_draw(handle_draw)\n",
    "\n",
    "# Function to execute when the 'Done' button is clicked\n",
    "def handle_button_click(b):\n",
    "    global polygon\n",
    "    start_time = start_time_picker.value.strftime('%Y-%m-%d')\n",
    "    end_time = end_time_picker.value.strftime('%Y-%m-%d')\n",
    "\n",
    "    # print('SAR image:')\n",
    "    # functions2.sar(polygon, start_time, end_time)\n",
    "    print('TCC Image:')\n",
    "    functions2.tcc(polygon, start_time, end_time)\n",
    "    print('FCC Image:')\n",
    "    functions2.fcc(polygon, start_time, end_time)\n",
    "    print('NBR Image (high DN is healthy):')\n",
    "    functions2.nbr(polygon, start_time, end_time)\n",
    "    print('NDVI Image (high DN is healthy):')\n",
    "    functions2.ndvi(polygon, start_time, end_time)\n",
    "\n",
    "\n",
    "press_this.on_click(handle_button_click)\n"
   ]
  },
  {
   "cell_type": "code",
   "execution_count": null,
   "metadata": {},
   "outputs": [],
   "source": []
  },
  {
   "cell_type": "code",
   "execution_count": null,
   "metadata": {},
   "outputs": [],
   "source": []
  }
 ],
 "metadata": {
  "kernelspec": {
   "display_name": "Python 3 (ipykernel)",
   "language": "python",
   "name": "python3"
  },
  "language_info": {
   "codemirror_mode": {
    "name": "ipython",
    "version": 3
   },
   "file_extension": ".py",
   "mimetype": "text/x-python",
   "name": "python",
   "nbconvert_exporter": "python",
   "pygments_lexer": "ipython3",
   "version": "3.11.5"
  }
 },
 "nbformat": 4,
 "nbformat_minor": 2
}
